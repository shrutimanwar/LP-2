{
 "cells": [
  {
   "cell_type": "code",
   "execution_count": 1,
   "id": "5b2f3ff5-5754-4902-833e-ec1256ffd8c6",
   "metadata": {},
   "outputs": [
    {
     "name": "stdout",
     "output_type": "stream",
     "text": [
      "👋 Hello! Welcome to Pizza Palace 🍕\n",
      "How can I help you today?\n",
      "Type 'menu' to see pizzas, 'order' to place an order, 'track' to track your order, or 'exit' to leave.\n"
     ]
    },
    {
     "name": "stdin",
     "output_type": "stream",
     "text": [
      "You:  menu\n"
     ]
    },
    {
     "name": "stdout",
     "output_type": "stream",
     "text": [
      "\n",
      "📜 Our Menu:\n",
      "1. Margherita - $8\n",
      "2. Pepperoni - $10\n",
      "3. Veggie Delight - $9\n",
      "\n"
     ]
    },
    {
     "name": "stdin",
     "output_type": "stream",
     "text": [
      "You:  order\n"
     ]
    },
    {
     "name": "stdout",
     "output_type": "stream",
     "text": [
      "\n",
      "📝 Great! What would you like to order?\n",
      "Please type the pizza name:\n"
     ]
    },
    {
     "name": "stdin",
     "output_type": "stream",
     "text": [
      "Pizza:  Pepperoni\n"
     ]
    },
    {
     "name": "stdout",
     "output_type": "stream",
     "text": [
      "✅ Your order for Pepperoni pizza has been placed! Estimated delivery: 30 minutes.\n",
      "\n"
     ]
    },
    {
     "name": "stdin",
     "output_type": "stream",
     "text": [
      "You:  track\n"
     ]
    },
    {
     "name": "stdout",
     "output_type": "stream",
     "text": [
      "\n",
      "🚚 Your order is being prepared and will arrive in approx 20 minutes!\n",
      "\n"
     ]
    },
    {
     "name": "stdin",
     "output_type": "stream",
     "text": [
      "You:  exit\n"
     ]
    },
    {
     "name": "stdout",
     "output_type": "stream",
     "text": [
      "\n",
      "👋 Thank you for visiting Pizza Palace! Have a delicious day!\n",
      "\n"
     ]
    }
   ],
   "source": [
    "# Simple Pizza Delivery Chatbot\n",
    "\n",
    "def chatbot():\n",
    "    print(\"👋 Hello! Welcome to Pizza Palace 🍕\")\n",
    "    print(\"How can I help you today?\")\n",
    "    print(\"Type 'menu' to see pizzas, 'order' to place an order, 'track' to track your order, or 'exit' to leave.\")\n",
    "    \n",
    "    while True:\n",
    "        user_input = input(\"You: \").lower()\n",
    "        \n",
    "        if \"menu\" in user_input:\n",
    "            print(\"\\n📜 Our Menu:\")\n",
    "            print(\"1. Margherita - $8\")\n",
    "            print(\"2. Pepperoni - $10\")\n",
    "            print(\"3. Veggie Delight - $9\\n\")\n",
    "        \n",
    "        elif \"order\" in user_input:\n",
    "            print(\"\\n📝 Great! What would you like to order?\")\n",
    "            print(\"Please type the pizza name:\")\n",
    "            pizza = input(\"Pizza: \")\n",
    "            print(f\"✅ Your order for {pizza.title()} pizza has been placed! Estimated delivery: 30 minutes.\\n\")\n",
    "        \n",
    "        elif \"track\" in user_input:\n",
    "            print(\"\\n🚚 Your order is being prepared and will arrive in approx 20 minutes!\\n\")\n",
    "        \n",
    "        elif \"exit\" in user_input:\n",
    "            print(\"\\n👋 Thank you for visiting Pizza Palace! Have a delicious day!\\n\")\n",
    "            break\n",
    "        \n",
    "        else:\n",
    "            print(\"\\n🤖 Sorry, I didn't understand that. Please type 'menu', 'order', 'track', or 'exit'.\\n\")\n",
    "\n",
    "# Run the chatbot\n",
    "chatbot()\n"
   ]
  },
  {
   "cell_type": "code",
   "execution_count": null,
   "id": "41a6c2be-8737-4af9-bb9a-e601edd7102f",
   "metadata": {},
   "outputs": [],
   "source": []
  }
 ],
 "metadata": {
  "kernelspec": {
   "display_name": "Python 3 (ipykernel)",
   "language": "python",
   "name": "python3"
  },
  "language_info": {
   "codemirror_mode": {
    "name": "ipython",
    "version": 3
   },
   "file_extension": ".py",
   "mimetype": "text/x-python",
   "name": "python",
   "nbconvert_exporter": "python",
   "pygments_lexer": "ipython3",
   "version": "3.8.10"
  }
 },
 "nbformat": 4,
 "nbformat_minor": 5
}
